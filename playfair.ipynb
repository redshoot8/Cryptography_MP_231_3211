{
 "cells": [
  {
   "cell_type": "markdown",
   "metadata": {},
   "source": [
    "# Шифр Плейфера\n",
    "Импорты, алфавит и ключ"
   ]
  },
  {
   "cell_type": "code",
   "execution_count": 2,
   "metadata": {},
   "outputs": [],
   "source": [
    "from colorama import Fore as text_color\n",
    "from utils.data_io import get_test_case\n",
    "from utils.validation import validate_string_key\n",
    "\n",
    "alphabet='абвгдежзиклмнопрстуфхцчшщыьэюя'\n",
    "key = validate_string_key(input('Введите ключ: '), alphabet=alphabet, is_can_repeat=False)"
   ]
  },
  {
   "cell_type": "markdown",
   "metadata": {},
   "source": [
    "Функция шифрования"
   ]
  },
  {
   "cell_type": "code",
   "execution_count": 3,
   "metadata": {},
   "outputs": [],
   "source": [
    "def playfair(string: str, alphabet: str = alphabet, key: str = 'АБВГД') -> str:\n",
    "    processed_text = string[0]\n",
    "    for i in range(1, len(string)):\n",
    "        if string[i] == string[i-1]:\n",
    "            processed_text += 'Ф'\n",
    "        processed_text += string[i]\n",
    "    \n",
    "    # Если текст имеет нечётную длину, добавляем Ф в конец\n",
    "    if len(processed_text) % 2 != 0:\n",
    "        processed_text += 'Ф'\n",
    "    \n",
    "    string = processed_text\n",
    "    alphabet = alphabet.upper()\n",
    "    \n",
    "    for char in alphabet:\n",
    "        if not char in key:\n",
    "            key += char\n",
    "    \n",
    "    matrix_key = []\n",
    "    for i in range(0, len(key), 6):\n",
    "        matrix_key.append(list(key[i:i + 6]))\n",
    "    \n",
    "    def get_position(char):\n",
    "        for i in range(len(matrix_key)):\n",
    "            for j in range(len(matrix_key[i])):\n",
    "                if matrix_key[i][j] == char:\n",
    "                    return i, j\n",
    "                    \n",
    "    new_str = ''\n",
    "    # Обрабатываем текст попарно\n",
    "    for i in range(0, len(processed_text)-1, 2):\n",
    "        char1, char2 = processed_text[i], processed_text[i+1]\n",
    "        pos1 = get_position(char1)\n",
    "        pos2 = get_position(char2)\n",
    "        \n",
    "        # Если буквы в одной строке\n",
    "        if pos1[0] == pos2[0]:\n",
    "            new_str += matrix_key[pos1[0]][(pos1[1] + 1) % 6] + \\\n",
    "                         matrix_key[pos2[0]][(pos2[1] + 1) % 6]\n",
    "            \n",
    "        # Если буквы в одном столбце\n",
    "        elif pos1[1] == pos2[1]:\n",
    "            new_str += matrix_key[(pos1[0] + 1) % 5][pos1[1]] + \\\n",
    "                         matrix_key[(pos2[0] + 1) % 5][pos2[1]]\n",
    "            \n",
    "        # Если буквы находятся в разных строках и столбцах\n",
    "        else:\n",
    "            new_str += matrix_key[pos1[0]][pos2[1]] + \\\n",
    "                         matrix_key[pos2[0]][pos1[1]]\n",
    "    \n",
    "    return new_str"
   ]
  },
  {
   "cell_type": "markdown",
   "metadata": {},
   "source": [
    "Функция расшифрования"
   ]
  },
  {
   "cell_type": "code",
   "execution_count": 4,
   "metadata": {},
   "outputs": [],
   "source": [
    "def playfair_decrypt(string: str, alphabet: str = alphabet, key: str = 'АБВГД') -> str:\n",
    "    processed_text = string[0]\n",
    "    for i in range(1, len(string)):\n",
    "        if string[i] == string[i-1]:\n",
    "            processed_text += 'Ф'\n",
    "        processed_text += string[i]\n",
    "    \n",
    "    # Если текст имеет нечётную длину, добавляем Ф в конец\n",
    "    if len(processed_text) % 2 != 0:\n",
    "        processed_text += 'Ф'\n",
    "    \n",
    "    string = processed_text\n",
    "    alphabet = alphabet.upper()\n",
    "    \n",
    "    for char in alphabet:\n",
    "        if not char in key:\n",
    "            key += char\n",
    "    \n",
    "    matrix_key = []\n",
    "    for i in range(0, len(key), 6):\n",
    "        matrix_key.append(list(key[i:i + 6]))\n",
    "    \n",
    "    def get_position(char):\n",
    "        for i in range(len(matrix_key)):\n",
    "            for j in range(len(matrix_key[i])):\n",
    "                if matrix_key[i][j] == char:\n",
    "                    return i, j\n",
    "                    \n",
    "    new_str = ''\n",
    "    # Обрабатываем текст попарно\n",
    "    for i in range(0, len(processed_text)-1, 2):\n",
    "        char1, char2 = processed_text[i], processed_text[i+1]\n",
    "        pos1 = get_position(char1)\n",
    "        pos2 = get_position(char2)\n",
    "        \n",
    "        # Если буквы в одной строке\n",
    "        if pos1[0] == pos2[0]:\n",
    "            new_str += matrix_key[pos1[0]][(pos1[1] - 1) % 6] + \\\n",
    "                         matrix_key[pos2[0]][(pos2[1] - 1) % 6]\n",
    "            \n",
    "        # Если буквы в одном столбце\n",
    "        elif pos1[1] == pos2[1]:\n",
    "            new_str += matrix_key[(pos1[0] - 1) % 5][pos1[1]] + \\\n",
    "                         matrix_key[(pos2[0] - 1) % 5][pos2[1]]\n",
    "            \n",
    "        # Если буквы находятся в разных строках и столбцах\n",
    "        else:\n",
    "            new_str += matrix_key[pos1[0]][pos2[1]] + \\\n",
    "                         matrix_key[pos2[0]][pos1[1]]\n",
    "    \n",
    "    processed_str = ''\n",
    "    \n",
    "    for i in range(1, len(string)):\n",
    "        if string[i] == string[i-1]:\n",
    "            processed_text += 'Ф'\n",
    "        processed_text += string[i]\n",
    "    \n",
    "    return new_str"
   ]
  },
  {
   "cell_type": "markdown",
   "metadata": {},
   "source": [
    "Проверка"
   ]
  },
  {
   "cell_type": "code",
   "execution_count": 6,
   "metadata": {},
   "outputs": [
    {
     "name": "stdout",
     "output_type": "stream",
     "text": [
      "\u001b[92mШифрование корректно\u001b[39m\n"
     ]
    }
   ],
   "source": [
    "try:\n",
    "    open_text = 'НЕВСЕТЕПОВАРАЗПТЧТОСДЛИННЫМИНОЖАМИХОДЯТТЧК'\n",
    "    encrypted_text = playfair(open_text, key=key)\n",
    "    decrypted_text = playfair_decrypt(encrypted_text, key=key)\n",
    "\n",
    "    assert encrypted_text == 'АНЗКБМНЕКДЖЦЛЖБКШСРТЗНДБХЕЕФДБРДЕРДШХОБШШМУС', 'Зашифрованный текст не совпадает с образцом'\n",
    "    assert decrypted_text == 'НЕВСЕТЕПОВАРАЗПТЧТОСДЛИНФНМЫХГАТГНОЖЧФТНЧУФТЧК', 'Расшифрованный текст не совпадает с изначальным'\n",
    "    print(f'{text_color.LIGHTGREEN_EX}Шифрование корректно{text_color.RESET}')\n",
    "except AssertionError as e:\n",
    "    print(f'{text_color.LIGHTRED_EX}Шифрование не корректно: {e}{text_color.RESET}')"
   ]
  },
  {
   "cell_type": "markdown",
   "metadata": {},
   "source": [
    "Сравнение гистограмм до шифрования и после"
   ]
  },
  {
   "cell_type": "code",
   "execution_count": 7,
   "metadata": {},
   "outputs": [
    {
     "name": "stdout",
     "output_type": "stream",
     "text": [
      "Открытый текст\n"
     ]
    },
    {
     "data": {
      "image/png": "[encoded data removed]",
      "text/plain": [
       "<Figure size 750x500 with 1 Axes>"
      ]
     },
     "metadata": {},
     "output_type": "display_data"
    },
    {
     "name": "stdout",
     "output_type": "stream",
     "text": [
      "Зашифрованный текст\n"
     ]
    },
    {
     "data": {
      "image/png": "[encoded data removed]",
      "text/plain": [
       "<Figure size 750x500 with 1 Axes>"
      ]
     },
     "metadata": {},
     "output_type": "display_data"
    }
   ],
   "source": [
    "from utils.gist import plot_letter_count\n",
    "\n",
    "print('Открытый текст')\n",
    "plot_letter_count(open_text)\n",
    "print('Зашифрованный текст')\n",
    "plot_letter_count(encrypted_text)"
   ]
  },
  {
   "cell_type": "markdown",
   "metadata": {},
   "source": [
    "Ввод строки для шифрования"
   ]
  },
  {
   "cell_type": "code",
   "execution_count": 5,
   "metadata": {},
   "outputs": [
    {
     "name": "stdout",
     "output_type": "stream",
     "text": [
      "ЖТЕЦАЗДШ\n"
     ]
    }
   ],
   "source": [
    "open_text = input('Введите открытый текст для шифрования: ')\n",
    "encrypted_text = playfair(open_text, key=key)\n",
    "print(encrypted_text)"
   ]
  },
  {
   "cell_type": "markdown",
   "metadata": {},
   "source": [
    "Ввод строки для расшифрования"
   ]
  },
  {
   "cell_type": "code",
   "execution_count": 6,
   "metadata": {},
   "outputs": [
    {
     "name": "stdout",
     "output_type": "stream",
     "text": [
      "КОНФНИКФ\n"
     ]
    }
   ],
   "source": [
    "encrypted_text = input('Введите текст для расшифрования: ')\n",
    "decrypted_text = playfair_decrypt(encrypted_text, key=key)\n",
    "print(decrypted_text)"
   ]
  }
 ],
 "metadata": {
  "kernelspec": {
   "display_name": ".venv",
   "language": "python",
   "name": "python3"
  },
  "language_info": {
   "codemirror_mode": {
    "name": "ipython",
    "version": 3
   },
   "file_extension": ".py",
   "mimetype": "text/x-python",
   "name": "python",
   "nbconvert_exporter": "python",
   "pygments_lexer": "ipython3",
   "version": "3.12.1"
  }
 },
 "nbformat": 4,
 "nbformat_minor": 2
}
